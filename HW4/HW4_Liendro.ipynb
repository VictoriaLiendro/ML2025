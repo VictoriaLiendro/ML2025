{
  "cells": [
    {
      "cell_type": "markdown",
      "source": [
        "**Naive Bayes**"
      ],
      "metadata": {
        "id": "y4C0p90L1KpK"
      }
    },
    {
      "cell_type": "code",
      "source": [
        "import pandas as pd\n",
        "import numpy as np\n",
        "import matplotlib.pyplot as plt\n",
        "\n",
        "train = pd.read_excel('/content/Asssignment4_Data.xlsx', 'Train')\n",
        "test = pd.read_excel('/content/Asssignment4_Data.xlsx', 'Test')\n",
        "\n",
        "print(train)\n"
      ],
      "metadata": {
        "colab": {
          "base_uri": "https://localhost:8080/"
        },
        "id": "QWZIRZTM1ROD",
        "outputId": "b894acf6-ae03-476f-edea-e1ad903c6821"
      },
      "execution_count": 1,
      "outputs": [
        {
          "output_type": "stream",
          "name": "stdout",
          "text": [
            "    House ID  Local Price  Bathrooms  Land Area  Living area  # Garages  \\\n",
            "0          1       4.9176        1.0     3.4720        0.998        1.0   \n",
            "1          2       5.0208        1.0     3.5310        1.500        2.0   \n",
            "2          3       4.5429        1.0     2.2750        1.175        1.0   \n",
            "3          4       4.5573        1.0     4.0500        1.232        1.0   \n",
            "4          5       5.0597        1.0     4.4550        1.121        1.0   \n",
            "5          6       3.8910        1.0     4.4550        0.988        1.0   \n",
            "6          7       5.8980        1.0     5.8500        1.240        1.0   \n",
            "7          8       5.6039        1.0     9.5200        1.501        0.0   \n",
            "8          9      16.4202        2.5     9.8000        3.420        2.0   \n",
            "9         10      14.4598        2.5    12.8000        3.000        2.0   \n",
            "10        11       5.8282        1.0     6.4350        1.225        2.0   \n",
            "11        12       5.3003        1.0     4.9883        1.552        1.0   \n",
            "12        13       6.2712        1.0     5.5200        0.975        1.0   \n",
            "13        14       5.9592        1.0     6.6660        1.121        2.0   \n",
            "14        15       5.0500        1.0     5.0000        1.020        0.0   \n",
            "15        16       5.6039        1.0     9.5200        1.501        0.0   \n",
            "16        17       8.2464        1.5     5.1500        1.664        2.0   \n",
            "17        18       6.6969        1.5     6.9020        1.488        1.5   \n",
            "18        19       7.7841        1.5     7.1020        1.376        1.0   \n",
            "19        20       9.0384        1.0     7.8000        1.500        1.5   \n",
            "\n",
            "    # Rooms  # Bedrooms  Age of home Construction type  \n",
            "0         7           4           42         Apartment  \n",
            "1         7           4           62             House  \n",
            "2         6           3           40             Condo  \n",
            "3         6           3           54         Apartment  \n",
            "4         6           3           42         Apartment  \n",
            "5         6           3           56             Condo  \n",
            "6         7           3           51             Condo  \n",
            "7         6           3           32             House  \n",
            "8        10           5           42             Condo  \n",
            "9         9           5           14         Apartment  \n",
            "10        6           3           32             House  \n",
            "11        6           3           30             House  \n",
            "12        5           2           30             House  \n",
            "13        6           3           32             Condo  \n",
            "14        5           2           46         Apartment  \n",
            "15        6           3           32             House  \n",
            "16        8           4           50         Apartment  \n",
            "17        7           3           22             House  \n",
            "18        6           3           17             Condo  \n",
            "19        7           3           23         Apartment  \n"
          ]
        }
      ]
    },
    {
      "cell_type": "code",
      "source": [
        "print(train['Bathrooms'][train['Construction type'] == 'House'])\n",
        "print(len(train['Bathrooms'][train['Construction type'] == 'House']))\n",
        "print(np.mean(train['Bathrooms'][train['Construction type'] == 'House']))\n",
        "print(np.var(train['Bathrooms'][train['Construction type'] == 'House']))"
      ],
      "metadata": {
        "colab": {
          "base_uri": "https://localhost:8080/"
        },
        "id": "e7hV_bWTBHd1",
        "outputId": "3bbbdee9-aad7-49d9-924f-a96dee157390"
      },
      "execution_count": 2,
      "outputs": [
        {
          "output_type": "stream",
          "name": "stdout",
          "text": [
            "1     1.0\n",
            "7     1.0\n",
            "10    1.0\n",
            "11    1.0\n",
            "12    1.0\n",
            "15    1.0\n",
            "17    1.5\n",
            "Name: Bathrooms, dtype: float64\n",
            "7\n",
            "1.0714285714285714\n",
            "0.030612244897959186\n"
          ]
        }
      ]
    },
    {
      "cell_type": "markdown",
      "source": [
        "\n",
        "The conditional probability function for continuous attributes $X_j$ given class $c_i$ is given by:\n",
        "\n",
        "$$ \\hat{P}(X_j | C = c_i) = \\frac{1}{\\sqrt{2\\pi \\sigma_{ji}^2}} \\exp( -\\frac{(X_j - \\mu_{ji})^2}{2\\sigma_{ji}^2} )$$\n",
        "\n",
        "where:\n",
        "\n",
        "* $\\mu_{ji}$: mean (average) of attribute values\n",
        "\n",
        "* $X_j$ of examples for which  $C = c_i$\n",
        "\n",
        "* $\\sigma_{ji}^2$: variance of attribute values $X_j$ of examples for which $C = c_i$\n",
        "\n",
        "\n",
        "As an example, we calculate it for Bathrooms and Garages.\n",
        "\n",
        "\n",
        "---\n",
        "\n",
        "*Bathrooms*:\n",
        "$$\\underline{\\text{$P(x_{\\text{Bathrooms}}|y=Apartment)$}}$$\n",
        "\n",
        "\n",
        "$$\\mu = \\frac{1+1+1+2.5+1+1.5+1}{7}= 1.285$$\n",
        "\n",
        "$$\\sigma ^2=  \\frac{1}{6}*[(1-1.285)^2+(1-1.285)^2+(1-1.285)^2+(2.5-1.285)^2+(1-1.285)^2+(1.5-1.285)^2+(1-1.285)^2] = 0.275$$\n",
        "\n",
        "$$\\boxed{P(x_{Bathrooms}|y=Apartment)=\\frac{1}{\\sqrt{2\\pi (0.275)}} \\exp( -\\frac{(X_j - (1.285))^2}{2(0.275)} )}$$\n",
        "\n",
        "\\\\\n",
        "\n",
        "$$\\underline{\\text{$P(x_{\\text{Bathrooms}}|y=House)$}}$$\n",
        "\n",
        "\n",
        "$$\\mu = \\frac{1+1+1+1+1+1+1.5}{7}= 1.071$$\n",
        "\n",
        "$$\\sigma ^2=  \\frac{1}{6}*[(1-1.071)^2+(1-1.071)^2+(1-1.071)^2+(1-1.071)^2+(1-1.071)^2+(1-1.071)^2+(1.5-1.071)^2] = 0.030$$\n",
        "\n",
        "$$\\boxed{P(x_{Bathrooms}|y=House)=\\frac{1}{\\sqrt{2\\pi (0.030)}} \\exp( -\\frac{(X_j - (1.071))^2}{2(0.030)} )}$$\n",
        "\n",
        "\\\\\n",
        "\n",
        "$$\\underline{\\text{$P(x_{\\text{Bathrooms}}|y=Condo)$}}$$\n",
        "\n",
        "\n",
        "$$\\mu = \\frac{1+1+1+2.5+1+1.5}{6}= 1.333$$\n",
        "\n",
        "$$\\sigma ^2=  \\frac{1}{5}*[(1-1.285)^2+(1-1.285)^2+(1-1.285)^2+(2.5-1.285)^2+(1-1.285)^2+(1.5-1.285)^2] = 0.305$$\n",
        "\n",
        "$$ \\boxed{P(x_{Bathrooms}|y=Condo)=\\frac{1}{\\sqrt{2\\pi (0.305)}} \\exp( -\\frac{(X_j - (1.333))^2}{2(0.305)} )}$$\n",
        "\n",
        "\n",
        "---\n",
        "*Garages*:\n",
        "$$\\underline{\\text{$P(x_{\\text{Garages}}|y=Apartment)$}}$$\n",
        "\n",
        " \\\\\n",
        "\n",
        "$$\\mu = \\frac{1+1+1+2+0+2+1.5}{7}= 1.214$$\n",
        "\n",
        "$$\\sigma ^2=  \\frac{1}{6}*[(1-1.214)^2+(1-1.214)^2+(1-1.214)^2+(2-1.214)^2+(0-1.214)^2+(2-1.214)^2+(1.5-1.214)^2] = 0.418$$\n",
        "\n",
        "$$\\boxed{P(x_{Garages}|y=Apartment)=\\frac{1}{\\sqrt{2\\pi (0.418)}} \\exp( -\\frac{(X_j - (1.214))^2}{2(0.418)} )}$$\n",
        "\n",
        "\\\\\n",
        "\n",
        "$$\\underline{\\text{$P(x_{\\text{Garages}}|y=House)$}}$$\n",
        "\n",
        "\\\\\n",
        "\n",
        "\n",
        "$$\\mu = \\frac{2+0+2+1+1+0+1.5}{7 }= 1.071$$\n",
        "\n",
        "$$\\sigma ^2=  \\frac{1}{6}*[(2-1.071)^2+(0-1.071)^2+(2-1.071)^2+(1-1.071)^2+(1-1.071)^2+(0-1.071)^2+(1.5-1.071)^2] = 0.602$$\n",
        "\n",
        "$$\\boxed{P(x_{Garages}|y=House)=\\frac{1}{\\sqrt{2\\pi (0.602)}} \\exp( -\\frac{(X_j - (1.071))^2}{2(0.602)} )}$$\n",
        "\n",
        "\\\\\n",
        "\n",
        "$$\\underline{\\text{$P(x_{\\text{Garages}}|y=Condo)$}}$$\n",
        "\n",
        "\\\\\n",
        "\n",
        "$$\\mu = \\frac{1+1+1+2+2+1}{6}= 1.333$$\n",
        "\n",
        "$$\\sigma ^2=  \\frac{1}{5}*[(1-1.333)^2+(1-1.333)^2+(1-1.333)^2+(2-1.333)^2+(2-1.333)^2+(1-1.333)^2] = 0.222$$\n",
        "\n",
        "$$\\boxed{P(x_{Garages}|y=Condo)=\\frac{1}{\\sqrt{2\\pi (0.222)}} \\exp( -\\frac{(X_j - (1.333))^2}{2(0.222)} )}$$\n",
        "\n",
        "\\\\"
      ],
      "metadata": {
        "id": "6mK6HAh91Q5s"
      }
    },
    {
      "cell_type": "code",
      "source": [
        "#conditional probability distribution for each feature\n",
        "def cond_prob(X,x):\n",
        "  # Let X be the data points for class c and x the point to test\n",
        "  mean = X.mean()\n",
        "  var = X.var()\n",
        "  exponent = np.exp(-((x - mean) ** 2 / (2 * var)))\n",
        "  return (1 / (np.sqrt(2 * np.pi*var) )) * exponent\n",
        "\n",
        "def get_prob_y(prob_x, prob_y): #prob_x: P(x_i| y=Y), prob_y: P(Y)\n",
        "  for prob in prob_x:\n",
        "    prob_y *= prob\n",
        "  return prob_y\n"
      ],
      "metadata": {
        "id": "kOqwgVl1BqOG"
      },
      "execution_count": 56,
      "outputs": []
    },
    {
      "cell_type": "code",
      "source": [
        "# Get all the conditional probabilities\n",
        "#Apartment\n",
        "cond_prob_apt = []\n",
        "for feature in train.columns[1:9]:\n",
        "  cond_prob_i = cond_prob(train[feature][train['Construction type'] == 'Apartment'],train[feature])\n",
        "  cond_prob_apt.append(cond_prob_i)\n",
        "prob_apt = len(train[train['Construction type'] == 'Apartment']) / len(train)\n",
        "cond_prob_apt = pd.DataFrame(cond_prob_apt)\n",
        "\n",
        "print(f'Conditional probability table for P(X|y=Apartment): \\n {cond_prob_apt} \\n \\n')\n",
        "#House\n",
        "cond_prob_house = []\n",
        "for feature in train.columns[1:9]:\n",
        "  cond_prob_i = cond_prob(train[feature][train['Construction type'] == 'House'],train[feature])\n",
        "  cond_prob_house.append(cond_prob_i)\n",
        "prob_house = len(train[train['Construction type'] == 'House']) / len(train)\n",
        "cond_prob_house = pd.DataFrame(cond_prob_house)\n",
        "\n",
        "#Condo\n",
        "cond_prob_condo = []\n",
        "for feature in train.columns[1:9]:\n",
        "  cond_prob_i = cond_prob(train[feature][train['Construction type'] == 'Condo'],train[feature])\n",
        "  cond_prob_condo.append(cond_prob_i)\n",
        "prob_condo = len(train[train['Construction type'] == 'Condo']) / len(train)\n",
        "cond_prob_condo = pd.DataFrame(cond_prob_condo)\n",
        "\n",
        "\n",
        "\n",
        "# Decide each class following the MAP method\n",
        "decision_train = []\n",
        "labels = ['Apartment','House','Condo']\n",
        "for i in range(len(cond_prob_apt.iloc[0])):\n",
        "  apt_prob = get_prob_y(cond_prob_apt[i], prob_apt)\n",
        "  house_prob = get_prob_y(cond_prob_house[i], prob_house)\n",
        "  condo_prob = get_prob_y(cond_prob_condo[i], prob_condo)\n",
        "  decision_train.append(labels[np.argmax([apt_prob,house_prob,condo_prob])])\n",
        "\n",
        "accuracy = np.mean(decision_train == train['Construction type'])\n",
        "print(f'Accuracy for training data: {accuracy}')\n",
        "\n",
        "# Test data\n",
        "\n",
        "#Apartment\n",
        "cond_prob_apt_test = []\n",
        "for feature in train.columns[1:9]:\n",
        "  cond_prob_i = cond_prob(train[feature][train['Construction type'] == 'Apartment'],test[feature])\n",
        "  cond_prob_apt_test.append(cond_prob_i)\n",
        "prob_apt = len(train[train['Construction type'] == 'Apartment']) / len(train)\n",
        "cond_prob_apt_test = pd.DataFrame(cond_prob_apt_test)\n",
        "\n",
        "#House\n",
        "cond_prob_house_test = []\n",
        "for feature in train.columns[1:9]:\n",
        "  cond_prob_i = cond_prob(train[feature][train['Construction type'] == 'House'],test[feature])\n",
        "  cond_prob_house_test.append(cond_prob_i)\n",
        "prob_house = len(train[train['Construction type'] == 'House']) / len(train)\n",
        "cond_prob_house_test = pd.DataFrame(cond_prob_house_test)\n",
        "\n",
        "#Condo\n",
        "cond_prob_condo_test = []\n",
        "for feature in train.columns[1:9]:\n",
        "  cond_prob_i = cond_prob(train[feature][train['Construction type'] == 'Condo'],test[feature])\n",
        "  cond_prob_condo_test.append(cond_prob_i)\n",
        "prob_condo = len(train[train['Construction type'] == 'Condo']) / len(train)\n",
        "cond_prob_condo_test = pd.DataFrame(cond_prob_condo_test)\n",
        "\n",
        "\n",
        "\n",
        "# Decide each class following the MAP method\n",
        "decision_test= []\n",
        "labels = ['Apartment','House','Condo']\n",
        "for i in range(len(cond_prob_apt_test.iloc[0])):\n",
        "  apt_prob = get_prob_y(cond_prob_apt_test[i], prob_apt)\n",
        "  house_prob = get_prob_y(cond_prob_house_test[i], prob_house)\n",
        "  condo_prob = get_prob_y(cond_prob_condo_test[i], prob_condo)\n",
        "  decision_test.append(labels[np.argmax([apt_prob,house_prob,condo_prob])])\n",
        "\n",
        "accuracy_test = np.mean(decision_test == test['Construction type'])\n",
        "print(f'Accuracy for testing data: {accuracy_test}')\n"
      ],
      "metadata": {
        "colab": {
          "base_uri": "https://localhost:8080/"
        },
        "id": "-SovwaH73Ox4",
        "outputId": "4f82343e-0550-446a-ca11-29a6f325471b"
      },
      "execution_count": 61,
      "outputs": [
        {
          "output_type": "stream",
          "name": "stdout",
          "text": [
            "Conditional probability table for P(X|y=Apartment): \n",
            "                    0         1         2         3         4         5   \\\n",
            "Local Price  0.088270  0.089932  0.081926  0.082178  0.090548  0.070139   \n",
            "Bathrooms    0.619754  0.619754  0.619754  0.619754  0.619754  0.619754   \n",
            "Land Area    0.088355  0.089642  0.061387  0.100374  0.107718  0.107718   \n",
            "Living area  0.437203  0.566580  0.507661  0.525567  0.488299  0.432711   \n",
            "# Garages    0.544790  0.303395  0.544790  0.544790  0.544790  0.544790   \n",
            "# Rooms      0.294903  0.294903  0.242082  0.242082  0.242082  0.242082   \n",
            "# Bedrooms   0.344393  0.344393  0.371216  0.371216  0.371216  0.371216   \n",
            "Age of home  0.026500  0.007725  0.027068  0.015804  0.026500  0.013587   \n",
            "\n",
            "                   6         7         8         9         10        11  \\\n",
            "Local Price  0.101976  0.098411  0.004691  0.015817  0.101179  0.094206   \n",
            "Bathrooms    0.619754  0.619754  0.070998  0.070998  0.619754  0.619754   \n",
            "Land Area    0.122060  0.070669  0.064343  0.014822  0.121800  0.115462   \n",
            "Living area  0.527853  0.566585  0.014029  0.059473  0.523519  0.565333   \n",
            "# Garages    0.544790  0.126089  0.303395  0.303395  0.303395  0.544790   \n",
            "# Rooms      0.294903  0.242082  0.019355  0.083387  0.242082  0.242082   \n",
            "# Bedrooms   0.371216  0.371216  0.111808  0.111808  0.371216  0.371216   \n",
            "Age of home  0.019146  0.024474  0.026500  0.006590  0.024474  0.022784   \n",
            "\n",
            "                   12        13        14        15        16        17  \\\n",
            "Local Price  0.105674  0.102648  0.090395  0.098411  0.106861  0.108634   \n",
            "Bathrooms    0.619754  0.619754  0.619754  0.619754  0.655159  0.655159   \n",
            "Land Area    0.120481  0.120623  0.115604  0.070669  0.117296  0.118813   \n",
            "Living area  0.426812  0.488299  0.446933  0.566585  0.552330  0.566429   \n",
            "# Garages    0.544790  0.303395  0.126089  0.126089  0.303395  0.525219   \n",
            "# Rooms      0.114352  0.242082  0.114352  0.242082  0.206724  0.294903   \n",
            "# Bedrooms   0.140020  0.371216  0.140020  0.371216  0.344393  0.371216   \n",
            "Age of home  0.022784  0.024474  0.024024  0.024474  0.020222  0.014214   \n",
            "\n",
            "                   18        19  \n",
            "Local Price  0.109471  0.098711  \n",
            "Bathrooms    0.655159  0.619754  \n",
            "Land Area    0.116820  0.106919  \n",
            "Living area  0.557164  0.566580  \n",
            "# Garages    0.544790  0.525219  \n",
            "# Rooms      0.242082  0.294903  \n",
            "# Bedrooms   0.371216  0.371216  \n",
            "Age of home  0.009102  0.015324   \n",
            " \n",
            "\n",
            "Accuracy for training data: 0.55\n",
            "Accuracy for testing data: 0.2\n"
          ]
        }
      ]
    },
    {
      "cell_type": "markdown",
      "source": [
        "---\n",
        "---\n",
        "**Decision Tree**"
      ],
      "metadata": {
        "id": "eMzzigHDR7Ta"
      }
    },
    {
      "cell_type": "code",
      "source": [
        "import pandas as pd\n",
        "import numpy as np\n",
        "import matplotlib.pyplot as plt\n",
        "from sklearn import tree\n",
        "from sklearn.metrics import accuracy_score\n",
        "\n",
        "\n",
        "train = pd.read_excel('/content/Asssignment4_Data.xlsx', 'Train')\n",
        "test = pd.read_excel('/content/Asssignment4_Data.xlsx', 'Test')\n",
        "\n"
      ],
      "metadata": {
        "id": "uEJtUdxPRVvO"
      },
      "execution_count": 68,
      "outputs": []
    },
    {
      "cell_type": "code",
      "source": [
        "x_train = train.drop('Construction type', axis=1)\n",
        "y_train = train['Construction type']\n",
        "\n",
        "x_test = test.drop('Construction type', axis=1)\n",
        "y_test = test['Construction type']\n",
        "\n",
        "tree_default = tree.DecisionTreeClassifier(random_state=99)\n",
        "tree_default = tree_default.fit(x_train, y_train)\n",
        "y_pred_train = tree_default.predict(x_train)\n",
        "y_pred_test = tree_default.predict(x_test)\n",
        "\n",
        "accuracy_train_default = accuracy_score(y_train, y_pred_train)\n",
        "accuracy_test_default = accuracy_score(y_test, y_pred_test)\n",
        "\n",
        "print(f'Train accuracy with default parameters: {accuracy_train_default}')\n",
        "print(f'Test accuracy with default parameters: {accuracy_test_default}')"
      ],
      "metadata": {
        "colab": {
          "base_uri": "https://localhost:8080/"
        },
        "id": "UbO__4p3S5qt",
        "outputId": "828d9a4e-896f-4b08-ad75-8d06b5c96f38"
      },
      "execution_count": 81,
      "outputs": [
        {
          "output_type": "stream",
          "name": "stdout",
          "text": [
            "Train accuracy with default parameters: 1.0\n",
            "Test accuracy with default parameters: 0.4\n"
          ]
        }
      ]
    },
    {
      "cell_type": "code",
      "source": [
        "# Testing the effect of setting a max depth, from 1 to 9.\n",
        "accuracy_train_depths = []\n",
        "accuracy_test_depths = []\n",
        "\n",
        "for d in range(1,10):\n",
        "  tree_max_depth = tree.DecisionTreeClassifier(max_depth=d,random_state=99)\n",
        "  tree_max_depth = tree_max_depth.fit(x_train, y_train)\n",
        "  y_pred_train = tree_max_depth.predict(x_train)\n",
        "  y_pred_test = tree_max_depth.predict(x_test)\n",
        "\n",
        "  accuracy_train_depths.append(accuracy_score(y_train, y_pred_train))\n",
        "  accuracy_test_depths.append(accuracy_score(y_test, y_pred_test))\n",
        "\n",
        "\n",
        "plt.hlines(y=1, xmin=1, xmax=9, linestyles='dashed', color='gray')\n",
        "plt.hlines(y=0.6, xmin=1, xmax=9, linestyles='dashed', color='gray')\n",
        "plt.plot(range(1,10), accuracy_train_depths, label='Train')\n",
        "plt.plot(range(1,10), accuracy_test_depths, label='Test')\n",
        "plt.xlabel('Depth')\n",
        "plt.ylabel('Accuracy')\n",
        "plt.title('Accuracy vs Depth')\n",
        "plt.legend()\n",
        "plt.show()\n",
        "\n"
      ],
      "metadata": {
        "colab": {
          "base_uri": "https://localhost:8080/",
          "height": 472
        },
        "id": "mVcPF2UIUiaK",
        "outputId": "d8aa00cc-a97d-44c7-ee3e-69b24a1cbdeb"
      },
      "execution_count": 83,
      "outputs": [
        {
          "output_type": "display_data",
          "data": {
            "text/plain": [
              "<Figure size 640x480 with 1 Axes>"
            ],
            "image/png": "[encoded data removed]"
          },
          "metadata": {}
        }
      ]
    },
    {
      "cell_type": "markdown",
      "source": [
        "Restricting the maximum depth of the tree:\n",
        "\n",
        "* In low values, the train and test accuracy are low.\n",
        "* In high values, the train accuracy gets closer to 1. But the test accuracy does not improve, probably it is overfitting.\n",
        "* In this case, the optimal depth for the test accuracy is 2.\n",
        "\n",
        "\n",
        "\n",
        "Setting the maximum depth affects in our model performance because it prevents the tree to keep growing even if the leaves are not really pure. This means that the maximum depth controls the model complexity, the larger it is the more complex and the more chances of overfitting."
      ],
      "metadata": {
        "id": "SB0tgt6aXlJY"
      }
    },
    {
      "cell_type": "code",
      "source": [
        "new_data = pd.DataFrame([{\n",
        "    'House ID': 100,\n",
        "    'Local Price': 9.0384,\n",
        "    'Bathrooms': 1,\n",
        "    'Land Area': 7.8,\n",
        "    'Living area': 1.5,\n",
        "    '# Garages': 1.5,\n",
        "    '# Rooms': 7,\n",
        "    '# Bedrooms': 3,\n",
        "    'Age of home': 23\n",
        "}])\n",
        "\n",
        "# We will try the default tree and max_depth = 2 tree\n",
        "tree_default = tree.DecisionTreeClassifier(random_state=99)\n",
        "tree_default = tree_default.fit(x_train, y_train)\n",
        "y_pred_new = tree_default.predict(new_data)\n",
        "\n",
        "print(f'Prediction for the new data with default parameters: {y_pred_new}')\n",
        "\n",
        "\n",
        "\n",
        "tree_max_depth = tree.DecisionTreeClassifier(max_depth=d,random_state=99)\n",
        "tree_max_depth = tree_max_depth.fit(x_train, y_train)\n",
        "y_pred_new = tree_max_depth.predict(new_data)\n",
        "print(f'Prediction for the new data with max_depth = 2: {y_pred_new}')\n"
      ],
      "metadata": {
        "colab": {
          "base_uri": "https://localhost:8080/"
        },
        "id": "nNldF3ZcbiES",
        "outputId": "9578ab6a-ccfe-43be-9e23-4da4e7ad2cfc"
      },
      "execution_count": 126,
      "outputs": [
        {
          "output_type": "stream",
          "name": "stdout",
          "text": [
            "Prediction for the new data with default parameters: ['Apartment']\n",
            "Prediction for the new data with max_depth = 2: ['Apartment']\n"
          ]
        }
      ]
    }
  ],
  "metadata": {
    "colab": {
      "provenance": []
    },
    "kernelspec": {
      "display_name": "Python 3",
      "name": "python3"
    },
    "language_info": {
      "name": "python"
    }
  },
  "nbformat": 4,
  "nbformat_minor": 0
}